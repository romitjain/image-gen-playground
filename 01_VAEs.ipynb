{
 "cells": [
  {
   "cell_type": "markdown",
   "id": "de3d9fd6-5741-4085-91df-55c8df47922f",
   "metadata": {},
   "source": [
    "Source: https://github.com/adam-maj/deep-learning/tree/main"
   ]
  },
  {
   "cell_type": "code",
   "execution_count": null,
   "id": "4cbeaccd-4307-4533-bb08-c16f07a8cadb",
   "metadata": {},
   "outputs": [],
   "source": [
    "!export CUDA_LAUNCH_BLOCKING=1"
   ]
  },
  {
   "cell_type": "code",
   "execution_count": null,
   "id": "8bfa1e97-17fb-4d4a-9539-f94f242b5a03",
   "metadata": {
    "scrolled": true
   },
   "outputs": [],
   "source": [
    "import os\n",
    "import torch\n",
    "import numpy as np\n",
    "import torch.nn as nn\n",
    "from torch.optim import Adam\n",
    "import torch.nn.functional as F\n",
    "\n",
    "import torchvision.transforms as transforms\n",
    "from torchvision.io import read_image\n",
    "from torch.utils.data import DataLoader, Dataset\n",
    "\n",
    "from typing import List, Tuple\n",
    "\n",
    "from tqdm import tqdm\n",
    "import matplotlib.pyplot as plt\n",
    "from torchvision.utils import save_image, make_grid"
   ]
  },
  {
   "cell_type": "code",
   "execution_count": null,
   "id": "6eb770fd-8141-424c-8372-16b1501a548a",
   "metadata": {},
   "outputs": [],
   "source": [
    "device = torch.device(\"cuda\" if torch.cuda.is_available() else \"cpu\")\n",
    "\n",
    "img_size = (128, 128)\n",
    "batch_size = 256\n",
    "hidden_dim = 1024\n",
    "latent_dim = 256\n",
    "learning_rate = 3e-4\n",
    "epochs = 100"
   ]
  },
  {
   "cell_type": "markdown",
   "id": "1ad105f2-e34a-43bc-8611-27f515cd0ecd",
   "metadata": {},
   "source": [
    "## Datset processing"
   ]
  },
  {
   "cell_type": "markdown",
   "id": "61654e18-28c8-4cd1-bf3c-ef136ab966a1",
   "metadata": {},
   "source": [
    "Datasets available:\n",
    "\n",
    "- HF: logo-wizard/modern-logo-dataset\n",
    "- https://github.com/Wangjing1551/Logo-2k-plus-Dataset\n",
    "- https://www.kaggle.com/datasets/siddharthkumarsah/logo-dataset-2341-classes-and-167140-images?resource=download\n",
    "- https://www.kaggle.com/datasets/lyly99/logodet3k"
   ]
  },
  {
   "cell_type": "code",
   "execution_count": null,
   "id": "98c2c5a9-2244-4251-b0b2-f20c9b5f3af9",
   "metadata": {},
   "outputs": [],
   "source": [
    "def find_files(folder, ext: Tuple[str]):\n",
    "    out_files = []\n",
    "\n",
    "    # Walk through the directory and its subdirectories\n",
    "    for root, dirs, files in os.walk(folder):\n",
    "        for file in files:\n",
    "            if file.lower().endswith(ext):\n",
    "                out_files.append(os.path.join(root, file))\n",
    "\n",
    "    print(f'Found {len(out_files)} image files in {folder}')\n",
    "    return out_files"
   ]
  },
  {
   "cell_type": "code",
   "execution_count": null,
   "id": "4e1af0f0-048f-4f29-927f-d88cf2de27f2",
   "metadata": {},
   "outputs": [],
   "source": [
    "dataset_path = './dataset/datasetcopy/trainandtest/train/'\n",
    "imgs = find_files(dataset_path, ext=('.jpg', '.jpeg', '.png'))"
   ]
  },
  {
   "cell_type": "code",
   "execution_count": null,
   "id": "4fe22b68-b53f-4ebc-b83c-1222754fd93f",
   "metadata": {},
   "outputs": [],
   "source": [
    "class LogoDataset(Dataset):\n",
    "    def __init__(self, img_files: List[str], resize: Tuple[int, int], transform=None):\n",
    "        self.img_files = img_files\n",
    "        self.resize = resize\n",
    "        self.transform = transform\n",
    "        self.resize_transform = transforms.Resize(resize)\n",
    "\n",
    "    def __len__(self):\n",
    "        return len(self.img_files)\n",
    "\n",
    "    def __getitem__(self, idx):\n",
    "        img_path = self.img_files[idx]\n",
    "        image = read_image(img_path).float()/255\n",
    "        image = self.resize_transform(image)\n",
    "        \n",
    "        if self.transform:\n",
    "            image = self.transform(image)\n",
    "        \n",
    "        return image\n",
    "\n",
    "    def plot_img(self, idx):\n",
    "        img_path = self.img_files[idx]\n",
    "        image = read_image(img_path).float()/255\n",
    "        image = self.resize_transform(image)\n",
    "        \n",
    "        if self.transform:\n",
    "            image = self.transform(image)\n",
    "\n",
    "        image = image.reshape(*self.resize, 3)\n",
    "\n",
    "        plt.figure()\n",
    "        plt.title(f'Image: {idx}')\n",
    "        plt.imshow(image)"
   ]
  },
  {
   "cell_type": "code",
   "execution_count": null,
   "id": "ee26e869-687c-43eb-88ad-cb8697f67156",
   "metadata": {},
   "outputs": [],
   "source": [
    "train_ds = LogoDataset(imgs[:-200], img_size)\n",
    "test_ds = LogoDataset(imgs[-200:], img_size)\n",
    "\n",
    "print(len(train_ds), len(test_ds))\n",
    "\n",
    "train_loader = DataLoader(\n",
    "    train_ds,\n",
    "    batch_size=batch_size,\n",
    "    shuffle=True,\n",
    "    num_workers=16,\n",
    "    pin_memory=True,\n",
    "    prefetch_factor=2\n",
    ")\n",
    "\n",
    "test_loader = DataLoader(\n",
    "    test_ds,\n",
    "    batch_size=batch_size,\n",
    "    shuffle=True,\n",
    "    num_workers=16,\n",
    "    pin_memory=True,\n",
    "    prefetch_factor=2\n",
    ")"
   ]
  },
  {
   "cell_type": "markdown",
   "id": "1c8e007d-d5c0-4f21-a664-08a759e055c2",
   "metadata": {},
   "source": [
    "## Modeling"
   ]
  },
  {
   "cell_type": "code",
   "execution_count": null,
   "id": "cbf067cf-b6ad-42af-b602-1df113abaa92",
   "metadata": {},
   "outputs": [],
   "source": [
    "class Encoder(nn.Module):\n",
    "    def __init__(self, input_channels, hidden_dim, latent_dim):\n",
    "        super(Encoder, self).__init__()\n",
    "        self.conv1 = nn.Conv2d(input_channels, hidden_dim // 8, kernel_size=4, stride=2, padding=1)\n",
    "        self.conv2 = nn.Conv2d(hidden_dim // 8, hidden_dim // 4, kernel_size=4, stride=2, padding=1)\n",
    "        self.conv3 = nn.Conv2d(hidden_dim // 4, hidden_dim // 2, kernel_size=4, stride=2, padding=1)\n",
    "        self.conv4 = nn.Conv2d(hidden_dim // 2, hidden_dim, kernel_size=4, stride=2, padding=1)\n",
    "\n",
    "        self.fc1 = nn.Linear(hidden_dim * 8 * 8, latent_dim)\n",
    "        self.fc2 = nn.Linear(hidden_dim * 8 * 8, latent_dim)\n",
    "        \n",
    "    def forward(self, x):\n",
    "        x = F.leaky_relu(self.conv1(x), 0.2)\n",
    "        x = F.dropout2d(x, 0.5)\n",
    "        x = F.leaky_relu(self.conv2(x), 0.2)\n",
    "        x = F.dropout2d(x, 0.5)\n",
    "        x = F.leaky_relu(self.conv3(x), 0.2)\n",
    "        x = F.dropout2d(x, 0.5)\n",
    "        x = F.leaky_relu(self.conv4(x), 0.2)\n",
    "        x = F.dropout2d(x, 0.5)\n",
    "        \n",
    "        x = x.view(x.size(0), -1)\n",
    "        mean = self.fc1(x)\n",
    "        log_variance = self.fc2(x)\n",
    "\n",
    "        return mean, log_variance\n",
    "\n",
    "class Decoder(nn.Module):\n",
    "    def __init__(self, latent_dim, hidden_dim, output_channels):\n",
    "        super(Decoder, self).__init__()\n",
    "        self.fc = nn.Linear(latent_dim, hidden_dim * 4 * 4)\n",
    "\n",
    "        self.deconv1 = nn.ConvTranspose2d(hidden_dim, hidden_dim // 2, kernel_size=4, stride=2, padding=1)\n",
    "        self.deconv2 = nn.ConvTranspose2d(hidden_dim // 2, hidden_dim // 4, kernel_size=4, stride=2, padding=1)\n",
    "        self.deconv3 = nn.ConvTranspose2d(hidden_dim // 4, hidden_dim // 8, kernel_size=4, stride=2, padding=1)\n",
    "        self.deconv4 = nn.ConvTranspose2d(hidden_dim // 8, output_channels, kernel_size=4, stride=2, padding=1)\n",
    "        self.deconv5 = nn.ConvTranspose2d(output_channels, output_channels, kernel_size=4, stride=2, padding=1)\n",
    "\n",
    "    def forward(self, x):\n",
    "        x = self.fc(x)\n",
    "        x = x.view(x.size(0), -1, 4, 4)\n",
    "        \n",
    "        x = F.leaky_relu(self.deconv1(x), 0.2)\n",
    "        x = F.dropout2d(x, 0.5)\n",
    "        x = F.leaky_relu(self.deconv2(x), 0.2)\n",
    "        x = F.dropout2d(x, 0.5)\n",
    "        x = F.leaky_relu(self.deconv3(x), 0.2)\n",
    "        x = F.dropout2d(x, 0.5)\n",
    "        x = F.leaky_relu(self.deconv4(x), 0.2)\n",
    "        x = F.dropout2d(x, 0.5)\n",
    "        x = torch.sigmoid(self.deconv5(x))\n",
    "        \n",
    "        return x\n",
    "\n",
    "class Model(nn.Module):\n",
    "    def __init__(self, Encoder, Decoder):\n",
    "        super(Model, self).__init__()\n",
    "        self.Encoder = Encoder\n",
    "        self.Decoder = Decoder\n",
    "\n",
    "    def reparameterization(self, mean, variance):\n",
    "        # Separate out the randomness into the epsilon term\n",
    "        epsilon = torch.randn_like(variance).to(device)\n",
    "\n",
    "        # Now gradients can flow back through mean and variance stil\n",
    "        z = mean + variance * epsilon\n",
    "\n",
    "        return z\n",
    "\n",
    "    def forward(self, x):\n",
    "        mean, log_variance = self.Encoder(x)\n",
    "\n",
    "        # Use the reparameterization trick to keep randomness differentiable\n",
    "        z = self.reparameterization(mean, torch.exp(0.5 * log_variance))\n",
    "\n",
    "        x_hat = self.Decoder(z)\n",
    "        return x_hat, mean, log_variance"
   ]
  },
  {
   "cell_type": "code",
   "execution_count": null,
   "id": "84cdbf84-c013-46de-a8e7-6120fd45112d",
   "metadata": {},
   "outputs": [],
   "source": [
    "encoder = Encoder(input_channels=3, hidden_dim=hidden_dim, latent_dim=latent_dim)\n",
    "decoder = Decoder(latent_dim=latent_dim, hidden_dim=hidden_dim, output_channels = 3)\n",
    "\n",
    "model = Model(Encoder=encoder, Decoder=decoder).to(device)"
   ]
  },
  {
   "cell_type": "code",
   "execution_count": null,
   "id": "bb0d96ef-6c27-4362-96c7-46fe01ce4643",
   "metadata": {},
   "outputs": [],
   "source": [
    "def num_params(m):\n",
    "    return sum(p.numel() for p in m.parameters() if p.requires_grad)\n",
    "\n",
    "num_params(encoder), num_params(decoder), num_params(model)"
   ]
  },
  {
   "cell_type": "code",
   "execution_count": null,
   "id": "61fc4dd8-2a53-48b9-a2c5-7eceee34531b",
   "metadata": {},
   "outputs": [],
   "source": [
    "if device == torch.device(\"cuda\"):\n",
    "    torch.backends.cuda.matmul.allow_tf32 = True  # allow tf32 on matmul\n",
    "    torch.backends.cudnn.allow_tf32 = True  # allow tf32 on cudnn\n",
    "    torch.amp.autocast(device_type=\"cuda\", dtype=torch.bfloat16)\n",
    "    torch.set_float32_matmul_precision(\"high\")\n",
    "    \n",
    "    model = torch.compile(model)\n",
    "    # warmup the model\n",
    "    input = torch.randn((1, 3, 128, 128), device=device)\n",
    "    for _ in range(10):\n",
    "        model(input)"
   ]
  },
  {
   "cell_type": "code",
   "execution_count": null,
   "id": "b83828a4-3623-46ad-80b5-f5b968c4610a",
   "metadata": {},
   "outputs": [],
   "source": [
    "def bce_loss(x, x_hat, mean, log_variance):\n",
    "    # reconstruction loss encourages latents to model distribution better\n",
    "    reconstruction_loss = nn.functional.binary_cross_entropy(x_hat, x, reduction='sum')\n",
    "\n",
    "    # kl div penalizes latents from deviating too far from gaussian\n",
    "    kl_divergence = - 0.5 * torch.sum(1 + log_variance - mean.pow(2) - log_variance.exp())\n",
    "\n",
    "    # both balance each other out to make a good approximation\n",
    "    return reconstruction_loss + kl_divergence\n",
    "\n",
    "optimizer = Adam(model.parameters(), lr=learning_rate)"
   ]
  },
  {
   "cell_type": "code",
   "execution_count": null,
   "id": "695648e1-7968-4855-a0f3-b157fbb3d99b",
   "metadata": {
    "scrolled": true
   },
   "outputs": [],
   "source": [
    "model.train()\n",
    "all_losses = []\n",
    "\n",
    "for epoch in range(epochs):\n",
    "    overall_loss = 0\n",
    "    for batch_idx, x in tqdm(enumerate(train_loader), total=len(train_loader)):\n",
    "        x = x.to(device)\n",
    "\n",
    "        optimizer.zero_grad()\n",
    "\n",
    "        x_hat, mean, log_variance = model(x)\n",
    "        loss = bce_loss(x, x_hat, mean, log_variance)\n",
    "\n",
    "        all_losses.append(loss)\n",
    "        overall_loss += loss.item()\n",
    "\n",
    "        loss.backward()\n",
    "        optimizer.step()\n",
    "\n",
    "    print(f\"epoch {epoch + 1}: average loss {overall_loss / (batch_idx*batch_size)}\")"
   ]
  },
  {
   "cell_type": "code",
   "execution_count": null,
   "id": "7bded42c-68de-457a-9bfa-31516289f3bb",
   "metadata": {},
   "outputs": [],
   "source": [
    "plt.plot(all_losses)"
   ]
  },
  {
   "cell_type": "markdown",
   "id": "f0a17ca1-18f7-4f39-abe4-e130c7b816dc",
   "metadata": {},
   "source": [
    "## Sampling"
   ]
  },
  {
   "cell_type": "code",
   "execution_count": null,
   "id": "145941d4-43bf-41f5-9412-447029b6b408",
   "metadata": {},
   "outputs": [],
   "source": [
    "model.eval()\n",
    "\n",
    "def show_image(x, idx, figure=True):\n",
    "    if figure:\n",
    "      fig = plt.figure()\n",
    "\n",
    "    x = x.view(-1, *img_size, 3)\n",
    "    plt.imshow(x[idx].cpu().numpy())\n",
    "\n",
    "def show_comparison(x, x_hat, idx):\n",
    "    fig = plt.figure()\n",
    "    plt.subplot(1, 2, 1)\n",
    "    show_image(x, idx, False)\n",
    "    plt.title(\"Original\")\n",
    "    plt.subplot(1, 2, 2)\n",
    "    show_image(x_hat, idx, False)\n",
    "    plt.title(\"Reconstruction\")"
   ]
  },
  {
   "cell_type": "code",
   "execution_count": null,
   "id": "4955c413-2e03-4178-812f-f13a4dc645ea",
   "metadata": {},
   "outputs": [],
   "source": [
    "x = next(iter(test_loader))\n",
    "with torch.no_grad():\n",
    "      x = x.to(device)\n",
    "      x_hat, _, _ = model(x)\n",
    "\n",
    "show_comparison(x, x_hat, 1)\n",
    "show_comparison(x, x_hat, 4)"
   ]
  },
  {
   "cell_type": "code",
   "execution_count": null,
   "id": "3811fe29-a541-460a-b541-5c28100edec7",
   "metadata": {},
   "outputs": [],
   "source": [
    "with torch.no_grad():\n",
    "    noise = torch.randn((batch_size, latent_dim), device=device)\n",
    "    generated_images = decoder(noise)"
   ]
  },
  {
   "cell_type": "code",
   "execution_count": null,
   "id": "46d8ef27-3222-4e50-b67e-53ff7e0b2efd",
   "metadata": {},
   "outputs": [],
   "source": [
    "show_image(generated_images, idx = 6)"
   ]
  },
  {
   "cell_type": "code",
   "execution_count": null,
   "id": "3fb32297-14dd-4588-af81-b085cafd5c4b",
   "metadata": {},
   "outputs": [],
   "source": [
    "show_image(generated_images, idx = 7)"
   ]
  },
  {
   "cell_type": "code",
   "execution_count": null,
   "id": "b6b434c8-c074-498a-bcbf-aa3bdbdb8bc2",
   "metadata": {},
   "outputs": [],
   "source": []
  }
 ],
 "metadata": {
  "kernelspec": {
   "display_name": "Python 3 (ipykernel)",
   "language": "python",
   "name": "python3"
  },
  "language_info": {
   "codemirror_mode": {
    "name": "ipython",
    "version": 3
   },
   "file_extension": ".py",
   "mimetype": "text/x-python",
   "name": "python",
   "nbconvert_exporter": "python",
   "pygments_lexer": "ipython3",
   "version": "3.11.6"
  }
 },
 "nbformat": 4,
 "nbformat_minor": 5
}
